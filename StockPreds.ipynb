{
  "nbformat": 4,
  "nbformat_minor": 0,
  "metadata": {
    "colab": {
      "name": "StockPreds.ipynb",
      "version": "0.3.2",
      "provenance": [],
      "collapsed_sections": [],
      "include_colab_link": true
    },
    "kernelspec": {
      "name": "python3",
      "display_name": "Python 3"
    }
  },
  "cells": [
    {
      "cell_type": "markdown",
      "metadata": {
        "id": "view-in-github",
        "colab_type": "text"
      },
      "source": [
        "<a href=\"https://colab.research.google.com/github/aserravalle/Stock-Prediction-Linear-Regression/blob/master/StockPreds.ipynb\" target=\"_parent\"><img src=\"https://colab.research.google.com/assets/colab-badge.svg\" alt=\"Open In Colab\"/></a>"
      ]
    },
    {
      "cell_type": "code",
      "metadata": {
        "id": "KMNtlWuYhHWU",
        "colab_type": "code",
        "colab": {
          "base_uri": "https://localhost:8080/",
          "height": 250
        },
        "outputId": "8d4ac057-3032-4a9f-8581-747a7e2d387b"
      },
      "source": [
        "import pandas as pd\n",
        "import numpy as np\n",
        "import datetime\n",
        "import pandas_datareader.data as web\n",
        "from pandas import Series, DataFrame\n",
        "\n",
        "start = datetime.datetime(2010, 1, 1)\n",
        "end = datetime.datetime(2017, 1, 11)\n",
        "\n",
        "df = web.DataReader(\"AAPL\", 'yahoo', start, end)\n",
        "df.to_csv('/content/AAPLstock.csv', index = False)\n",
        "\n",
        "print(df.shape)\n",
        "df.head()"
      ],
      "execution_count": 263,
      "outputs": [
        {
          "output_type": "stream",
          "text": [
            "(1769, 6)\n"
          ],
          "name": "stdout"
        },
        {
          "output_type": "execute_result",
          "data": {
            "text/html": [
              "<div>\n",
              "<style scoped>\n",
              "    .dataframe tbody tr th:only-of-type {\n",
              "        vertical-align: middle;\n",
              "    }\n",
              "\n",
              "    .dataframe tbody tr th {\n",
              "        vertical-align: top;\n",
              "    }\n",
              "\n",
              "    .dataframe thead th {\n",
              "        text-align: right;\n",
              "    }\n",
              "</style>\n",
              "<table border=\"1\" class=\"dataframe\">\n",
              "  <thead>\n",
              "    <tr style=\"text-align: right;\">\n",
              "      <th></th>\n",
              "      <th>High</th>\n",
              "      <th>Low</th>\n",
              "      <th>Open</th>\n",
              "      <th>Close</th>\n",
              "      <th>Volume</th>\n",
              "      <th>Adj Close</th>\n",
              "    </tr>\n",
              "    <tr>\n",
              "      <th>Date</th>\n",
              "      <th></th>\n",
              "      <th></th>\n",
              "      <th></th>\n",
              "      <th></th>\n",
              "      <th></th>\n",
              "      <th></th>\n",
              "    </tr>\n",
              "  </thead>\n",
              "  <tbody>\n",
              "    <tr>\n",
              "      <th>2010-01-04</th>\n",
              "      <td>30.642857</td>\n",
              "      <td>30.340000</td>\n",
              "      <td>30.490000</td>\n",
              "      <td>30.572857</td>\n",
              "      <td>123432400.0</td>\n",
              "      <td>26.681330</td>\n",
              "    </tr>\n",
              "    <tr>\n",
              "      <th>2010-01-05</th>\n",
              "      <td>30.798571</td>\n",
              "      <td>30.464285</td>\n",
              "      <td>30.657143</td>\n",
              "      <td>30.625713</td>\n",
              "      <td>150476200.0</td>\n",
              "      <td>26.727465</td>\n",
              "    </tr>\n",
              "    <tr>\n",
              "      <th>2010-01-06</th>\n",
              "      <td>30.747143</td>\n",
              "      <td>30.107143</td>\n",
              "      <td>30.625713</td>\n",
              "      <td>30.138571</td>\n",
              "      <td>138040000.0</td>\n",
              "      <td>26.302330</td>\n",
              "    </tr>\n",
              "    <tr>\n",
              "      <th>2010-01-07</th>\n",
              "      <td>30.285715</td>\n",
              "      <td>29.864286</td>\n",
              "      <td>30.250000</td>\n",
              "      <td>30.082857</td>\n",
              "      <td>119282800.0</td>\n",
              "      <td>26.253704</td>\n",
              "    </tr>\n",
              "    <tr>\n",
              "      <th>2010-01-08</th>\n",
              "      <td>30.285715</td>\n",
              "      <td>29.865715</td>\n",
              "      <td>30.042856</td>\n",
              "      <td>30.282858</td>\n",
              "      <td>111902700.0</td>\n",
              "      <td>26.428249</td>\n",
              "    </tr>\n",
              "  </tbody>\n",
              "</table>\n",
              "</div>"
            ],
            "text/plain": [
              "                 High        Low       Open      Close       Volume  Adj Close\n",
              "Date                                                                          \n",
              "2010-01-04  30.642857  30.340000  30.490000  30.572857  123432400.0  26.681330\n",
              "2010-01-05  30.798571  30.464285  30.657143  30.625713  150476200.0  26.727465\n",
              "2010-01-06  30.747143  30.107143  30.625713  30.138571  138040000.0  26.302330\n",
              "2010-01-07  30.285715  29.864286  30.250000  30.082857  119282800.0  26.253704\n",
              "2010-01-08  30.285715  29.865715  30.042856  30.282858  111902700.0  26.428249"
            ]
          },
          "metadata": {
            "tags": []
          },
          "execution_count": 263
        }
      ]
    },
    {
      "cell_type": "code",
      "metadata": {
        "id": "FfowMbaiw62G",
        "colab_type": "code",
        "colab": {}
      },
      "source": [
        "def BuildPipeline(stock, start, end):\n",
        "  # Load data\n",
        "  df = web.DataReader(stock, 'yahoo', start, end) \n",
        "    # Note that start date won't appear in output - it will be dropped for rolling avgs\n",
        "    # Set start date 1.5y before you actually want the data to start\n",
        "  df.to_csv('/content/'+stock+'stock.csv', index = False)\n",
        "\n",
        "  # Target \n",
        "  close_px = df['Adj Close']\n",
        "\n",
        "  # Moving Average\n",
        "  df['mavg50'] = close_px.rolling(window = 50).mean()\n",
        "  df['mavg100'] = close_px.rolling(window = 100).mean()\n",
        "  df['mavg200'] = close_px.rolling(window = 200).mean()\n",
        "\n",
        "  # Return\n",
        "  df['rets_day'] = close_px / close_px.shift(1) - 1\n",
        "  df['rets_week'] = close_px / close_px.shift(7) - 1\n",
        "  df['rets_month'] = close_px / close_px.shift(30) - 1\n",
        "  df['rets_year'] = close_px / close_px.shift(365) - 1\n",
        "\n",
        "  # Competitor stock prices\n",
        "  competitors = ['GE', 'GOOG', 'IBM', 'MSFT']\n",
        "  dfcomp = web.DataReader(competitors,'yahoo',start=start,end=end)['Adj Close']\n",
        "  dfcomp.index = df.index\n",
        "  df = pd.concat([df, dfcomp], axis =1)\n",
        "\n",
        "  # Rolling correlation between AAPL and competitors\n",
        "  for comp in competitors:\n",
        "    df['Corr: '+comp] = df['Adj Close'].rolling(90).corr(df[comp])\n",
        "\n",
        "  # Adjust the timing to reflect data you will have\n",
        "  reg_df = df['Open'][1:] # Today's open\n",
        "  shift = df.iloc[:len(df) - 1, :] #Previous everything else\n",
        "\n",
        "  lagging_features = [col for col in df.columns if col not in ['Open','Close']]\n",
        "  shift = shift.loc[:, lagging_features] #Drop Open and Close\n",
        "  shift.index = reg_df.index # Set index from yesterday's date to todays date, become \"previous\"\n",
        "  df = pd.concat([reg_df, shift], axis = 1, ) # Join the two dataframes \n",
        "\n",
        "  # Drop early missing values\n",
        "  df.dropna(axis = 0, inplace = True)\n",
        "\n",
        "  return df"
      ],
      "execution_count": 0,
      "outputs": []
    },
    {
      "cell_type": "code",
      "metadata": {
        "id": "C1fhnOwFM4H5",
        "colab_type": "code",
        "colab": {
          "base_uri": "https://localhost:8080/",
          "height": 460
        },
        "outputId": "737ac4dd-9370-4b79-d4f6-d4aeac94297f"
      },
      "source": [
        "# Load training data\n",
        "start = datetime.datetime(2010, 1, 1)\n",
        "end = datetime.datetime(2017, 1, 11)\n",
        "\n",
        "df = BuildPipeline(\"AAPL\", start, end)\n",
        "print(df.shape)\n",
        "df.head()"
      ],
      "execution_count": 265,
      "outputs": [
        {
          "output_type": "stream",
          "text": [
            "(1403, 20)\n"
          ],
          "name": "stdout"
        },
        {
          "output_type": "execute_result",
          "data": {
            "text/html": [
              "<div>\n",
              "<style scoped>\n",
              "    .dataframe tbody tr th:only-of-type {\n",
              "        vertical-align: middle;\n",
              "    }\n",
              "\n",
              "    .dataframe tbody tr th {\n",
              "        vertical-align: top;\n",
              "    }\n",
              "\n",
              "    .dataframe thead th {\n",
              "        text-align: right;\n",
              "    }\n",
              "</style>\n",
              "<table border=\"1\" class=\"dataframe\">\n",
              "  <thead>\n",
              "    <tr style=\"text-align: right;\">\n",
              "      <th></th>\n",
              "      <th>Open</th>\n",
              "      <th>High</th>\n",
              "      <th>Low</th>\n",
              "      <th>Volume</th>\n",
              "      <th>Adj Close</th>\n",
              "      <th>mavg50</th>\n",
              "      <th>mavg100</th>\n",
              "      <th>mavg200</th>\n",
              "      <th>rets_day</th>\n",
              "      <th>rets_week</th>\n",
              "      <th>rets_month</th>\n",
              "      <th>rets_year</th>\n",
              "      <th>GE</th>\n",
              "      <th>GOOG</th>\n",
              "      <th>IBM</th>\n",
              "      <th>MSFT</th>\n",
              "      <th>Corr: GE</th>\n",
              "      <th>Corr: GOOG</th>\n",
              "      <th>Corr: IBM</th>\n",
              "      <th>Corr: MSFT</th>\n",
              "    </tr>\n",
              "    <tr>\n",
              "      <th>Date</th>\n",
              "      <th></th>\n",
              "      <th></th>\n",
              "      <th></th>\n",
              "      <th></th>\n",
              "      <th></th>\n",
              "      <th></th>\n",
              "      <th></th>\n",
              "      <th></th>\n",
              "      <th></th>\n",
              "      <th></th>\n",
              "      <th></th>\n",
              "      <th></th>\n",
              "      <th></th>\n",
              "      <th></th>\n",
              "      <th></th>\n",
              "      <th></th>\n",
              "      <th></th>\n",
              "      <th></th>\n",
              "      <th></th>\n",
              "      <th></th>\n",
              "    </tr>\n",
              "  </thead>\n",
              "  <tbody>\n",
              "    <tr>\n",
              "      <th>2011-06-16</th>\n",
              "      <td>46.700001</td>\n",
              "      <td>47.185715</td>\n",
              "      <td>46.411430</td>\n",
              "      <td>99799000.0</td>\n",
              "      <td>40.737003</td>\n",
              "      <td>42.340529</td>\n",
              "      <td>42.853248</td>\n",
              "      <td>40.536488</td>\n",
              "      <td>-0.017116</td>\n",
              "      <td>-0.033398</td>\n",
              "      <td>-0.061602</td>\n",
              "      <td>0.526798</td>\n",
              "      <td>13.440412</td>\n",
              "      <td>250.535934</td>\n",
              "      <td>123.620567</td>\n",
              "      <td>19.379145</td>\n",
              "      <td>0.719063</td>\n",
              "      <td>0.606507</td>\n",
              "      <td>0.016047</td>\n",
              "      <td>0.696665</td>\n",
              "    </tr>\n",
              "    <tr>\n",
              "      <th>2011-06-17</th>\n",
              "      <td>46.998573</td>\n",
              "      <td>46.954285</td>\n",
              "      <td>45.475716</td>\n",
              "      <td>127647800.0</td>\n",
              "      <td>40.538776</td>\n",
              "      <td>42.306294</td>\n",
              "      <td>42.837926</td>\n",
              "      <td>40.587641</td>\n",
              "      <td>-0.004866</td>\n",
              "      <td>-0.020720</td>\n",
              "      <td>-0.069829</td>\n",
              "      <td>0.516746</td>\n",
              "      <td>13.587784</td>\n",
              "      <td>249.250748</td>\n",
              "      <td>123.879501</td>\n",
              "      <td>19.591385</td>\n",
              "      <td>0.727901</td>\n",
              "      <td>0.615920</td>\n",
              "      <td>0.026176</td>\n",
              "      <td>0.710444</td>\n",
              "    </tr>\n",
              "    <tr>\n",
              "      <th>2011-06-20</th>\n",
              "      <td>45.337143</td>\n",
              "      <td>47.035713</td>\n",
              "      <td>45.622856</td>\n",
              "      <td>153755000.0</td>\n",
              "      <td>39.927876</td>\n",
              "      <td>42.261960</td>\n",
              "      <td>42.811570</td>\n",
              "      <td>40.631233</td>\n",
              "      <td>-0.015070</td>\n",
              "      <td>-0.036059</td>\n",
              "      <td>-0.076395</td>\n",
              "      <td>0.518036</td>\n",
              "      <td>13.624629</td>\n",
              "      <td>241.604401</td>\n",
              "      <td>125.227402</td>\n",
              "      <td>19.803619</td>\n",
              "      <td>0.733229</td>\n",
              "      <td>0.628033</td>\n",
              "      <td>0.020691</td>\n",
              "      <td>0.713223</td>\n",
              "    </tr>\n",
              "    <tr>\n",
              "      <th>2011-06-21</th>\n",
              "      <td>45.240002</td>\n",
              "      <td>45.385715</td>\n",
              "      <td>44.357143</td>\n",
              "      <td>160161400.0</td>\n",
              "      <td>39.311993</td>\n",
              "      <td>42.205209</td>\n",
              "      <td>42.776001</td>\n",
              "      <td>40.670599</td>\n",
              "      <td>-0.015425</td>\n",
              "      <td>-0.048780</td>\n",
              "      <td>-0.090406</td>\n",
              "      <td>0.497388</td>\n",
              "      <td>13.617256</td>\n",
              "      <td>241.385223</td>\n",
              "      <td>125.669083</td>\n",
              "      <td>19.975054</td>\n",
              "      <td>0.734932</td>\n",
              "      <td>0.638165</td>\n",
              "      <td>0.015521</td>\n",
              "      <td>0.700132</td>\n",
              "    </tr>\n",
              "    <tr>\n",
              "      <th>2011-06-22</th>\n",
              "      <td>46.451427</td>\n",
              "      <td>46.542858</td>\n",
              "      <td>45.028572</td>\n",
              "      <td>123345600.0</td>\n",
              "      <td>40.556232</td>\n",
              "      <td>42.180873</td>\n",
              "      <td>42.753672</td>\n",
              "      <td>40.712071</td>\n",
              "      <td>0.031650</td>\n",
              "      <td>-0.001841</td>\n",
              "      <td>-0.064154</td>\n",
              "      <td>0.534579</td>\n",
              "      <td>13.860425</td>\n",
              "      <td>245.579514</td>\n",
              "      <td>126.582932</td>\n",
              "      <td>20.211779</td>\n",
              "      <td>0.735236</td>\n",
              "      <td>0.642829</td>\n",
              "      <td>0.009150</td>\n",
              "      <td>0.694167</td>\n",
              "    </tr>\n",
              "  </tbody>\n",
              "</table>\n",
              "</div>"
            ],
            "text/plain": [
              "                 Open       High        Low  ...  Corr: GOOG  Corr: IBM  Corr: MSFT\n",
              "Date                                         ...                                   \n",
              "2011-06-16  46.700001  47.185715  46.411430  ...    0.606507   0.016047    0.696665\n",
              "2011-06-17  46.998573  46.954285  45.475716  ...    0.615920   0.026176    0.710444\n",
              "2011-06-20  45.337143  47.035713  45.622856  ...    0.628033   0.020691    0.713223\n",
              "2011-06-21  45.240002  45.385715  44.357143  ...    0.638165   0.015521    0.700132\n",
              "2011-06-22  46.451427  46.542858  45.028572  ...    0.642829   0.009150    0.694167\n",
              "\n",
              "[5 rows x 20 columns]"
            ]
          },
          "metadata": {
            "tags": []
          },
          "execution_count": 265
        }
      ]
    },
    {
      "cell_type": "code",
      "metadata": {
        "id": "TUfDUnFXjjxd",
        "colab_type": "code",
        "colab": {
          "base_uri": "https://localhost:8080/",
          "height": 123
        },
        "outputId": "2601f099-02d0-4eab-f2f7-d5bcad73416f"
      },
      "source": [
        "# Models\n",
        "from sklearn.linear_model import LinearRegression, Ridge\n",
        "from sklearn.neighbors import KNeighborsRegressor\n",
        "\n",
        "# Preprocessing\n",
        "from sklearn.model_selection import train_test_split\n",
        "from sklearn.preprocessing import PolynomialFeatures\n",
        "from sklearn.pipeline import make_pipeline\n",
        "\n",
        "# Separate training and evaluating data\n",
        "X = df.drop('Adj Close', axis = 1)\n",
        "y = df[['Adj Close']]\n",
        "X_train, X_test, y_train, y_test = train_test_split(X, y, test_size=0.33, random_state=42)\n",
        "\n",
        "# Linear regression\n",
        "clfreg = LinearRegression(n_jobs=-1)\n",
        "clfreg.fit(X_train, y_train)\n",
        "\n",
        "# Quadratic Regression 2\n",
        "clfpoly2 = make_pipeline(PolynomialFeatures(2), Ridge())\n",
        "clfpoly2.fit(X_train, y_train)\n",
        "\n",
        "# Quadratic Regression 3\n",
        "clfpoly3 = make_pipeline(PolynomialFeatures(3), Ridge())\n",
        "clfpoly3.fit(X_train, y_train)\n",
        "\n",
        "# KNN Regression\n",
        "clfknn = KNeighborsRegressor(n_neighbors=2)\n",
        "clfknn.fit(X_train, y_train)\n",
        "\n",
        "print('done')"
      ],
      "execution_count": 266,
      "outputs": [
        {
          "output_type": "stream",
          "text": [
            "/usr/local/lib/python3.6/dist-packages/sklearn/linear_model/ridge.py:147: LinAlgWarning: Ill-conditioned matrix (rcond=3.17527e-36): result may not be accurate.\n",
            "  overwrite_a=True).T\n",
            "/usr/local/lib/python3.6/dist-packages/sklearn/linear_model/ridge.py:189: UserWarning: Singular matrix in solving dual problem. Using least-squares solution instead.\n",
            "  warnings.warn(\"Singular matrix in solving dual problem. Using \"\n"
          ],
          "name": "stderr"
        },
        {
          "output_type": "stream",
          "text": [
            "done\n"
          ],
          "name": "stdout"
        }
      ]
    },
    {
      "cell_type": "code",
      "metadata": {
        "id": "ilqPKmEXzQBL",
        "colab_type": "code",
        "colab": {
          "base_uri": "https://localhost:8080/",
          "height": 103
        },
        "outputId": "c6396054-742c-4d9b-a3e6-5825d311f9d8"
      },
      "source": [
        "confidencereg = clfreg.score(X_test, y_test)\n",
        "confidencepoly2 = clfpoly2.score(X_test,y_test)\n",
        "confidencepoly3 = clfpoly3.score(X_test,y_test)\n",
        "confidenceknn = clfknn.score(X_test, y_test)\n",
        "\n",
        "# results\n",
        "print('Confidence intervals')\n",
        "print('Linear Reg :', confidencereg)\n",
        "print('Quad Reg1  :', confidencepoly2)\n",
        "print('Quad Reg2  :', confidencepoly3)\n",
        "print('KNN Reg    :', confidenceknn)"
      ],
      "execution_count": 267,
      "outputs": [
        {
          "output_type": "stream",
          "text": [
            "Confidence intervals\n",
            "Linear Reg : 0.9992078377025347\n",
            "Quad Reg1  : 0.9997040960597591\n",
            "Quad Reg2  : 0.4939750926841152\n",
            "KNN Reg    : 0.254757138848678\n"
          ],
          "name": "stdout"
        }
      ]
    },
    {
      "cell_type": "code",
      "metadata": {
        "id": "3xNukzOoNRO5",
        "colab_type": "code",
        "colab": {}
      },
      "source": [
        "# Rebuild model on full training set\n",
        "# Linear regression\n",
        "clfreg = LinearRegression(n_jobs = -1)\n",
        "clfreg.fit(X, y)\n",
        "\n",
        "# Quadratic Regression 2\n",
        "clfpoly2 = make_pipeline(PolynomialFeatures(2), Ridge())\n",
        "clfpoly2.fit(X, y)\n",
        "\n",
        "# Quadratic Regression 3\n",
        "clfpoly3 = make_pipeline(PolynomialFeatures(3), Ridge())\n",
        "clfpoly3.fit(X, y)\n",
        "\n",
        "# KNN Regression\n",
        "clfknn = KNeighborsRegressor(n_neighbors=2)\n",
        "clfknn.fit(X, y)\n",
        "print('done')"
      ],
      "execution_count": 0,
      "outputs": []
    },
    {
      "cell_type": "code",
      "metadata": {
        "id": "ZJjw1OYobxEw",
        "colab_type": "code",
        "colab": {
          "base_uri": "https://localhost:8080/",
          "height": 336
        },
        "outputId": "663ab916-8c09-471b-e726-6b2106ced63d"
      },
      "source": [
        "start = datetime.datetime(2015, 8, 1) # Set early to start after training data\n",
        "end = datetime.datetime(2019, 6, 30)\n",
        "\n",
        "test = BuildPipeline(\"AAPL\", start, end)\n",
        "print(test.shape)\n",
        "\n",
        "# Split data\n",
        "y_test = test[['Adj Close']]\n",
        "X_test = test.drop('Adj Close', axis = 1)\n",
        "y_test_predictions = []\n",
        "\n",
        "# Make predictions on later data\n",
        "for i in range(len(X_test)):\n",
        "  X_obs = X_test.iloc[i,:]\n",
        "  X_obs = np.array(X_obs).reshape(1, -1)\n",
        "\n",
        "  yhat = clfreg.predict(X_obs)[0][0]\n",
        "  y_test_predictions.append(yhat)\n",
        "\n",
        "# Append predictions to actual data\n",
        "y_test['Prediction'] = pd.DataFrame({'Prediction' : y_test_predictions}, index = y_test.index)\n",
        "\n",
        "y_test.tail()"
      ],
      "execution_count": 283,
      "outputs": [
        {
          "output_type": "stream",
          "text": [
            "(618, 20)\n"
          ],
          "name": "stdout"
        },
        {
          "output_type": "stream",
          "text": [
            "/usr/local/lib/python3.6/dist-packages/ipykernel_launcher.py:21: SettingWithCopyWarning: \n",
            "A value is trying to be set on a copy of a slice from a DataFrame.\n",
            "Try using .loc[row_indexer,col_indexer] = value instead\n",
            "\n",
            "See the caveats in the documentation: http://pandas.pydata.org/pandas-docs/stable/indexing.html#indexing-view-versus-copy\n"
          ],
          "name": "stderr"
        },
        {
          "output_type": "execute_result",
          "data": {
            "text/html": [
              "<div>\n",
              "<style scoped>\n",
              "    .dataframe tbody tr th:only-of-type {\n",
              "        vertical-align: middle;\n",
              "    }\n",
              "\n",
              "    .dataframe tbody tr th {\n",
              "        vertical-align: top;\n",
              "    }\n",
              "\n",
              "    .dataframe thead th {\n",
              "        text-align: right;\n",
              "    }\n",
              "</style>\n",
              "<table border=\"1\" class=\"dataframe\">\n",
              "  <thead>\n",
              "    <tr style=\"text-align: right;\">\n",
              "      <th></th>\n",
              "      <th>Adj Close</th>\n",
              "      <th>Prediction</th>\n",
              "    </tr>\n",
              "    <tr>\n",
              "      <th>Date</th>\n",
              "      <th></th>\n",
              "      <th></th>\n",
              "    </tr>\n",
              "  </thead>\n",
              "  <tbody>\n",
              "    <tr>\n",
              "      <th>2019-06-24</th>\n",
              "      <td>198.027603</td>\n",
              "      <td>200.632745</td>\n",
              "    </tr>\n",
              "    <tr>\n",
              "      <th>2019-06-25</th>\n",
              "      <td>197.828369</td>\n",
              "      <td>200.684364</td>\n",
              "    </tr>\n",
              "    <tr>\n",
              "      <th>2019-06-26</th>\n",
              "      <td>194.829758</td>\n",
              "      <td>198.652211</td>\n",
              "    </tr>\n",
              "    <tr>\n",
              "      <th>2019-06-27</th>\n",
              "      <td>199.043747</td>\n",
              "      <td>201.080052</td>\n",
              "    </tr>\n",
              "    <tr>\n",
              "      <th>2019-06-28</th>\n",
              "      <td>198.983978</td>\n",
              "      <td>201.330058</td>\n",
              "    </tr>\n",
              "  </tbody>\n",
              "</table>\n",
              "</div>"
            ],
            "text/plain": [
              "             Adj Close  Prediction\n",
              "Date                              \n",
              "2019-06-24  198.027603  200.632745\n",
              "2019-06-25  197.828369  200.684364\n",
              "2019-06-26  194.829758  198.652211\n",
              "2019-06-27  199.043747  201.080052\n",
              "2019-06-28  198.983978  201.330058"
            ]
          },
          "metadata": {
            "tags": []
          },
          "execution_count": 283
        }
      ]
    },
    {
      "cell_type": "code",
      "metadata": {
        "id": "3ueQQbS9eMjT",
        "colab_type": "code",
        "colab": {}
      },
      "source": [
        "yhat = clfreg.predict(X_test)"
      ],
      "execution_count": 0,
      "outputs": []
    },
    {
      "cell_type": "code",
      "metadata": {
        "colab_type": "code",
        "outputId": "45503498-9c21-416b-9549-49852c20ec27",
        "id": "VhQyg2PneSml",
        "colab": {
          "base_uri": "https://localhost:8080/",
          "height": 103
        }
      },
      "source": [
        "# Test the performance of models on testing data\n",
        "confidencereg = clfreg.score(X_test, y_test['Adj Close'])\n",
        "confidencepoly2 = clfpoly2.score(X_test,y_test['Adj Close'])\n",
        "confidencepoly3 = clfpoly3.score(X_test,y_test['Adj Close'])\n",
        "confidenceknn = clfknn.score(X_test, y_test['Adj Close'])\n",
        "\n",
        "# Results\n",
        "print('Confidence intervals')\n",
        "print('Linear Reg :', confidencereg)\n",
        "print('Quad Reg1  :', confidencepoly2)\n",
        "print('Quad Reg2  :', confidencepoly3)\n",
        "print('KNN Reg    :', confidenceknn)\n"
      ],
      "execution_count": 286,
      "outputs": [
        {
          "output_type": "stream",
          "text": [
            "Confidence intervals\n",
            "Linear Reg : 0.9949704062598604\n",
            "Quad Reg1  : 0.1330740247172567\n",
            "Quad Reg2  : -7.629004540871198\n",
            "KNN Reg    : -7.096528477694136\n"
          ],
          "name": "stdout"
        }
      ]
    },
    {
      "cell_type": "code",
      "metadata": {
        "id": "WV6xk0DRXq34",
        "colab_type": "code",
        "colab": {
          "base_uri": "https://localhost:8080/",
          "height": 428
        },
        "outputId": "a70f64f7-bb74-474d-c7d0-3e8c906b04c2"
      },
      "source": [
        "y_test['Adj Close'].tail(500).plot()\n",
        "y_test['Prediction'].tail(500).plot()\n",
        "plt.legend(loc=4)\n",
        "plt.xlabel('Date')\n",
        "plt.ylabel('Price')\n",
        "plt.show()"
      ],
      "execution_count": 287,
      "outputs": [
        {
          "output_type": "display_data",
          "data": {
            "image/png": "[encoded data removed]",
            "text/plain": [
              "<Figure size 576x504 with 1 Axes>"
            ]
          },
          "metadata": {
            "tags": []
          }
        }
      ]
    },
    {
      "cell_type": "code",
      "metadata": {
        "id": "7qigBHBkfKlG",
        "colab_type": "code",
        "colab": {}
      },
      "source": [
        ""
      ],
      "execution_count": 0,
      "outputs": []
    }
  ]
}